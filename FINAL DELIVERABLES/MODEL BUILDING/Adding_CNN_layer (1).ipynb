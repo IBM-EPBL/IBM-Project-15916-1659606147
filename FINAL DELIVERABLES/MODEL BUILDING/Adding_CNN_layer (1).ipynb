{
  "nbformat": 4,
  "nbformat_minor": 0,
  "metadata": {
    "colab": {
      "provenance": []
    },
    "kernelspec": {
      "name": "python3",
      "display_name": "Python 3"
    },
    "language_info": {
      "name": "python"
    }
  },
  "cells": [
    {
      "cell_type": "markdown",
      "source": [
        "Importing libraries"
      ],
      "metadata": {
        "id": "Xqm44YKrJASe"
      }
    },
    {
      "cell_type": "code",
      "execution_count": 1,
      "metadata": {
        "id": "ghzlydc1V0-q"
      },
      "outputs": [],
      "source": [
        "import keras\n",
        "import tensorflow\n",
        "from tensorflow.keras.preprocessing.image import ImageDataGenerator\n",
        "from tensorflow.keras.preprocessing import image"
      ]
    },
    {
      "cell_type": "markdown",
      "source": [
        "Defining the Parameters"
      ],
      "metadata": {
        "id": "EI24q-x1JGut"
      }
    },
    {
      "cell_type": "code",
      "source": [
        "train = ImageDataGenerator(rescale=1/255)\n",
        "test = ImageDataGenerator(rescale=1/255)"
      ],
      "metadata": {
        "id": "b3AzsBSoWHxT"
      },
      "execution_count": 2,
      "outputs": []
    },
    {
      "cell_type": "markdown",
      "source": [
        "Applying ImageDataGenerator functionality to train dataset"
      ],
      "metadata": {
        "id": "90BamvBEJMZZ"
      }
    },
    {
      "cell_type": "code",
      "source": [
        "x_train = train.flow_from_directory(\"/content/drive/MyDrive/forest fire/Dataset/Dataset/train_set\",\n",
        "                                          target_size=(64,64),\n",
        "                                          batch_size = 32,\n",
        "                                          class_mode = 'binary' )"
      ],
      "metadata": {
        "colab": {
          "base_uri": "https://localhost:8080/"
        },
        "id": "yvM5OZHIIqtp",
        "outputId": "e63e3e4f-aa0c-4c68-c1ba-cbe4e19c9cdc"
      },
      "execution_count": 4,
      "outputs": [
        {
          "output_type": "stream",
          "name": "stdout",
          "text": [
            "Found 441 images belonging to 2 classes.\n"
          ]
        }
      ]
    },
    {
      "cell_type": "markdown",
      "source": [
        "Applying ImageDataGenerator functionality to test dataset"
      ],
      "metadata": {
        "id": "OQXyrzQ2JVIZ"
      }
    },
    {
      "cell_type": "code",
      "source": [
        "x_test = test.flow_from_directory(\"/content/drive/MyDrive/forest fire/Dataset/Dataset/test_set\",\n",
        "                                          target_size=(64,64),\n",
        "                                          batch_size = 32,\n",
        "                                          class_mode = 'binary' )"
      ],
      "metadata": {
        "colab": {
          "base_uri": "https://localhost:8080/"
        },
        "id": "TFqtXK_SJY8H",
        "outputId": "e55b4a7d-2550-482a-e60a-5ee7bc9a59f7"
      },
      "execution_count": 5,
      "outputs": [
        {
          "output_type": "stream",
          "name": "stdout",
          "text": [
            "Found 121 images belonging to 2 classes.\n"
          ]
        }
      ]
    },
    {
      "cell_type": "code",
      "source": [
        "x_test.class_indices"
      ],
      "metadata": {
        "colab": {
          "base_uri": "https://localhost:8080/"
        },
        "id": "n7MaohJrJmYJ",
        "outputId": "1c95c576-604c-4dbe-e00c-5f5b508e2444"
      },
      "execution_count": 6,
      "outputs": [
        {
          "output_type": "execute_result",
          "data": {
            "text/plain": [
              "{'forest': 0, 'with fire': 1}"
            ]
          },
          "metadata": {},
          "execution_count": 6
        }
      ]
    },
    {
      "cell_type": "code",
      "source": [
        "x_test.class_indices"
      ],
      "metadata": {
        "colab": {
          "base_uri": "https://localhost:8080/"
        },
        "id": "GAXg_odXJtAx",
        "outputId": "24cbdc4f-94ae-4564-af3e-071b279b919a"
      },
      "execution_count": 7,
      "outputs": [
        {
          "output_type": "execute_result",
          "data": {
            "text/plain": [
              "{'forest': 0, 'with fire': 1}"
            ]
          },
          "metadata": {},
          "execution_count": 7
        }
      ]
    },
    {
      "cell_type": "markdown",
      "source": [
        "Importing Model Building Libraries"
      ],
      "metadata": {
        "id": "wsO3d9o0JxT0"
      }
    },
    {
      "cell_type": "code",
      "source": [
        "#to define the linear Initialisation import sequential\n",
        "from keras.models import Sequential\n",
        "#to add layers import Dense\n",
        "from keras.layers import Dense\n",
        "#to create Convolutional kernel import convolution2D\n",
        "from keras.layers import Convolution2D\n",
        "#import Maxpooling layer \n",
        "from keras.layers import MaxPooling2D\n",
        "#import flatten layer\n",
        "from keras.layers import Flatten\n",
        "import numpy as np\n",
        "import warnings\n",
        "warnings.filterwarnings('ignore')"
      ],
      "metadata": {
        "id": "coQ4hOU-JyZs"
      },
      "execution_count": 8,
      "outputs": []
    },
    {
      "cell_type": "markdown",
      "source": [
        "Initializing the model"
      ],
      "metadata": {
        "id": "yQBd_aY9Kx3C"
      }
    },
    {
      "cell_type": "code",
      "source": [
        "model =Sequential()"
      ],
      "metadata": {
        "id": "JWqvZHLuLTKb"
      },
      "execution_count": 9,
      "outputs": []
    },
    {
      "cell_type": "markdown",
      "source": [
        "Add CNN Layer"
      ],
      "metadata": {
        "id": "kaeMmn2SMdtL"
      }
    },
    {
      "cell_type": "code",
      "source": [
        "model.add(Convolution2D(32, (3,3),input_shape=(128,128,3),activation='relu'))\n",
        "#add maxpooling layer\n",
        "model.add(MaxPooling2D(pool_size=(2,2)))\n",
        "#add flatten layer\n",
        "model.add(Flatten())"
      ],
      "metadata": {
        "id": "yB_BYCXxMeug"
      },
      "execution_count": 10,
      "outputs": []
    }
  ]
}