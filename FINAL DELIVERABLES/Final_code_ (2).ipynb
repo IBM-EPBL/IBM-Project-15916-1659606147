{
  "cells": [
    {
      "cell_type": "markdown",
      "metadata": {
        "id": "MSQAwDy2zBLI"
      },
      "source": [
        "Importing Keras libraries"
      ]
    },
    {
      "cell_type": "code",
      "execution_count": 51,
      "metadata": {
        "id": "dGjMFRWVzLR1"
      },
      "outputs": [],
      "source": [
        "import keras"
      ]
    },
    {
      "cell_type": "markdown",
      "metadata": {
        "id": "VSOVZux818Ou"
      },
      "source": [
        "Importing ImageDataGenerator from Keras"
      ]
    },
    {
      "cell_type": "code",
      "execution_count": 52,
      "metadata": {
        "id": "mpfbwXSFzZ-J"
      },
      "outputs": [],
      "source": [
        "from matplotlib import pyplot as plt\n",
        "from keras.preprocessing.image import ImageDataGenerator"
      ]
    },
    {
      "cell_type": "markdown",
      "metadata": {
        "id": "zvk5hwOM2LGh"
      },
      "source": [
        "Defining the Parameters"
      ]
    },
    {
      "cell_type": "code",
      "execution_count": 53,
      "metadata": {
        "id": "DalRAnYYzgxR"
      },
      "outputs": [],
      "source": [
        "train=ImageDataGenerator(rescale=1./255,\n",
        "                                 shear_range=0.2,\n",
        "                                 rotation_range=180,\n",
        "                                 zoom_range=0.2,\n",
        "                                 horizontal_flip=True)\n",
        "train = ImageDataGenerator(rescale=1/255)\n",
        "test = ImageDataGenerator(rescale=1/255)"
      ]
    },
    {
      "cell_type": "markdown",
      "metadata": {
        "id": "NNjhmtg22XTh"
      },
      "source": [
        "Applying ImageDataGenerator functionality to train dataset\n"
      ]
    },
    {
      "cell_type": "code",
      "execution_count": 54,
      "metadata": {
        "colab": {
          "base_uri": "https://localhost:8080/"
        },
        "id": "6Ii79SEUz6-W",
        "outputId": "978c31b1-ac15-43e4-b724-5c70581106c4"
      },
      "outputs": [
        {
          "output_type": "stream",
          "name": "stdout",
          "text": [
            "Found 441 images belonging to 2 classes.\n"
          ]
        }
      ],
      "source": [
        "x_train = train.flow_from_directory(\"/content/drive/MyDrive/forest fire/Dataset/Dataset/train_set\",\n",
        "                                          target_size=(64,64),\n",
        "                                          batch_size = 32,\n",
        "                                          class_mode = 'binary' )"
      ]
    },
    {
      "cell_type": "markdown",
      "metadata": {
        "id": "nxxP9Vjp28Ix"
      },
      "source": [
        "Applying ImageDataGenerator functionality to test dataset"
      ]
    },
    {
      "cell_type": "code",
      "execution_count": 55,
      "metadata": {
        "colab": {
          "base_uri": "https://localhost:8080/"
        },
        "id": "d-ZOBAxd0QE5",
        "outputId": "ecaebda7-a4ea-4a31-90ba-3bb7f93e6fb3"
      },
      "outputs": [
        {
          "output_type": "stream",
          "name": "stdout",
          "text": [
            "Found 121 images belonging to 2 classes.\n"
          ]
        }
      ],
      "source": [
        "x_test = test.flow_from_directory(\"/content/drive/MyDrive/forest fire/Dataset/Dataset/test_set\",\n",
        "                                          target_size=(64,64),\n",
        "                                          batch_size = 32,\n",
        "                                          class_mode = 'binary' )"
      ]
    },
    {
      "cell_type": "code",
      "execution_count": 56,
      "metadata": {
        "colab": {
          "base_uri": "https://localhost:8080/"
        },
        "id": "ZTLfKBL70dSg",
        "outputId": "d9f90527-7f70-4373-bcb5-efda2c0030d7"
      },
      "outputs": [
        {
          "output_type": "execute_result",
          "data": {
            "text/plain": [
              "{'forest': 0, 'with fire': 1}"
            ]
          },
          "metadata": {},
          "execution_count": 56
        }
      ],
      "source": [
        "x_test.class_indices"
      ]
    },
    {
      "cell_type": "code",
      "execution_count": 57,
      "metadata": {
        "colab": {
          "base_uri": "https://localhost:8080/"
        },
        "id": "1NbW7fHa0e9x",
        "outputId": "f28a5197-2f0d-430b-8f47-07cdcedcea5f"
      },
      "outputs": [
        {
          "output_type": "execute_result",
          "data": {
            "text/plain": [
              "{'forest': 0, 'with fire': 1}"
            ]
          },
          "metadata": {},
          "execution_count": 57
        }
      ],
      "source": [
        "x_test.class_indices"
      ]
    },
    {
      "cell_type": "markdown",
      "metadata": {
        "id": "XF57gVO53EjZ"
      },
      "source": [
        "Importing Model Building Libraries\n"
      ]
    },
    {
      "cell_type": "code",
      "execution_count": 58,
      "metadata": {
        "id": "hoR3P5d30jFB"
      },
      "outputs": [],
      "source": [
        "#to define the linear Initialisation import sequential\n",
        "from keras.models import Sequential\n",
        "#to add layers import Dense\n",
        "from keras.layers import Dense\n",
        "#to create Convolutional kernel import convolution2D\n",
        "from keras.layers import Convolution2D\n",
        "#import Maxpooling layer \n",
        "from keras.layers import MaxPooling2D\n",
        "#import flatten layer\n",
        "from keras.layers import Flatten\n",
        "import numpy as np\n",
        "import warnings\n",
        "warnings.filterwarnings('ignore')"
      ]
    },
    {
      "cell_type": "markdown",
      "metadata": {
        "id": "tEQ7kNUy3KAi"
      },
      "source": [
        "Initializing the model"
      ]
    },
    {
      "cell_type": "code",
      "execution_count": 59,
      "metadata": {
        "id": "HuWI_PFs0vLY"
      },
      "outputs": [],
      "source": [
        "model =Sequential()"
      ]
    },
    {
      "cell_type": "markdown",
      "metadata": {
        "id": "Hgs-5Rwf3MLt"
      },
      "source": [
        "Adding CNN Layers"
      ]
    },
    {
      "cell_type": "code",
      "execution_count": 60,
      "metadata": {
        "id": "nTrlqK3O00EZ"
      },
      "outputs": [],
      "source": [
        "model.add(Convolution2D(32,(3,3),input_shape=(64,64,3),activation='relu'))\n",
        "#add maxpooling layers\n",
        "model.add(MaxPooling2D(pool_size=(2,2)))\n",
        "#add faltten layer\n",
        "model.add(Flatten())"
      ]
    },
    {
      "cell_type": "markdown",
      "metadata": {
        "id": "BMDoCFHL3QbD"
      },
      "source": [
        "Add Dense layers"
      ]
    },
    {
      "cell_type": "code",
      "execution_count": 61,
      "metadata": {
        "id": "_hgk8Jhr07eh"
      },
      "outputs": [],
      "source": [
        "#add hidden layers\n",
        "model.add(Dense(150,activation='relu'))\n",
        "#add output layer\n",
        "model.add(Dense(1,activation='sigmoid'))"
      ]
    },
    {
      "cell_type": "markdown",
      "metadata": {
        "id": "X23ZIJY93WHk"
      },
      "source": [
        "configuring the learning process"
      ]
    },
    {
      "cell_type": "code",
      "execution_count": 62,
      "metadata": {
        "id": "MhicZSj50-wV"
      },
      "outputs": [],
      "source": [
        "model.compile(loss = 'binary_crossentropy',\n",
        "              optimizer = \"adam\",\n",
        "              metrics = [\"accuracy\"])"
      ]
    },
    {
      "cell_type": "markdown",
      "metadata": {
        "id": "lghd-Pal3i7o"
      },
      "source": [
        "Training the model"
      ]
    },
    {
      "cell_type": "code",
      "execution_count": 63,
      "metadata": {
        "colab": {
          "base_uri": "https://localhost:8080/"
        },
        "id": "Okrbw_Gr1EMU",
        "outputId": "1f78113a-4922-4388-a97a-46d14d1a3fb6"
      },
      "outputs": [
        {
          "output_type": "stream",
          "name": "stdout",
          "text": [
            "Epoch 1/5\n",
            "14/14 [==============================] - ETA: 0s - loss: 0.8783 - accuracy: 0.7506"
          ]
        },
        {
          "output_type": "stream",
          "name": "stderr",
          "text": [
            "WARNING:tensorflow:Your input ran out of data; interrupting training. Make sure that your dataset or generator can generate at least `steps_per_epoch * epochs` batches (in this case, 20 batches). You may need to use the repeat() function when building your dataset.\n"
          ]
        },
        {
          "output_type": "stream",
          "name": "stdout",
          "text": [
            "\b\b\b\b\b\b\b\b\b\b\b\b\b\b\b\b\b\b\b\b\b\b\b\b\b\b\b\b\b\b\b\b\b\b\b\b\b\b\b\b\b\b\b\b\b\b\b\b\b\b\b\b\b\b\b\b\b\b\b\b\b\b\b\b\b\b\b\b\b\b\b\b\b\b\b\b\b\b\b\b\b\b\r14/14 [==============================] - 23s 2s/step - loss: 0.8783 - accuracy: 0.7506 - val_loss: 0.1509 - val_accuracy: 0.9752\n",
            "Epoch 2/5\n",
            "14/14 [==============================] - 18s 1s/step - loss: 0.2946 - accuracy: 0.8639\n",
            "Epoch 3/5\n",
            "14/14 [==============================] - 15s 1s/step - loss: 0.1919 - accuracy: 0.9138\n",
            "Epoch 4/5\n",
            "14/14 [==============================] - 17s 1s/step - loss: 0.1427 - accuracy: 0.9342\n",
            "Epoch 5/5\n",
            "14/14 [==============================] - 15s 1s/step - loss: 0.1228 - accuracy: 0.9546\n"
          ]
        },
        {
          "output_type": "execute_result",
          "data": {
            "text/plain": [
              "<keras.callbacks.History at 0x7fefea6521d0>"
            ]
          },
          "metadata": {},
          "execution_count": 63
        }
      ],
      "source": [
        "model.fit_generator(x_train,steps_per_epoch=14,epochs=5,validation_data=x_test,validation_steps=20)"
      ]
    },
    {
      "cell_type": "markdown",
      "metadata": {
        "id": "UdRyNlVN4F9a"
      },
      "source": [
        "\n",
        "Save The Model"
      ]
    },
    {
      "cell_type": "code",
      "execution_count": 64,
      "metadata": {
        "id": "1-y8cmb24Iww"
      },
      "outputs": [],
      "source": [
        "model.save(\"forest1.h5\")"
      ]
    },
    {
      "cell_type": "markdown",
      "metadata": {
        "id": "daobk_O-5JOr"
      },
      "source": [
        "Predictions"
      ]
    },
    {
      "cell_type": "code",
      "execution_count": 65,
      "metadata": {
        "colab": {
          "base_uri": "https://localhost:8080/"
        },
        "id": "NDPD8LIN5L-9",
        "outputId": "2c34d1cc-356c-468e-8adf-0ed623f89231"
      },
      "outputs": [
        {
          "output_type": "stream",
          "name": "stdout",
          "text": [
            "4/4 [==============================] - 5s 1s/step\n"
          ]
        }
      ],
      "source": [
        "predictions = model.predict(x_test)\n",
        "predictions = np.round(predictions)"
      ]
    },
    {
      "cell_type": "code",
      "execution_count": 66,
      "metadata": {
        "colab": {
          "base_uri": "https://localhost:8080/"
        },
        "id": "F0RaszpH5Tq8",
        "outputId": "bd9a2972-e97f-42cf-9613-4f431a8b1dde"
      },
      "outputs": [
        {
          "output_type": "execute_result",
          "data": {
            "text/plain": [
              "array([[0.],\n",
              "       [0.],\n",
              "       [0.],\n",
              "       [0.],\n",
              "       [1.],\n",
              "       [0.],\n",
              "       [1.],\n",
              "       [0.],\n",
              "       [0.],\n",
              "       [1.],\n",
              "       [0.],\n",
              "       [1.],\n",
              "       [1.],\n",
              "       [1.],\n",
              "       [0.],\n",
              "       [0.],\n",
              "       [0.],\n",
              "       [0.],\n",
              "       [0.],\n",
              "       [1.],\n",
              "       [1.],\n",
              "       [0.],\n",
              "       [0.],\n",
              "       [0.],\n",
              "       [1.],\n",
              "       [0.],\n",
              "       [1.],\n",
              "       [0.],\n",
              "       [1.],\n",
              "       [0.],\n",
              "       [1.],\n",
              "       [0.],\n",
              "       [0.],\n",
              "       [1.],\n",
              "       [1.],\n",
              "       [0.],\n",
              "       [0.],\n",
              "       [0.],\n",
              "       [1.],\n",
              "       [1.],\n",
              "       [0.],\n",
              "       [1.],\n",
              "       [1.],\n",
              "       [1.],\n",
              "       [1.],\n",
              "       [0.],\n",
              "       [0.],\n",
              "       [1.],\n",
              "       [0.],\n",
              "       [1.],\n",
              "       [0.],\n",
              "       [0.],\n",
              "       [0.],\n",
              "       [0.],\n",
              "       [0.],\n",
              "       [1.],\n",
              "       [0.],\n",
              "       [0.],\n",
              "       [1.],\n",
              "       [1.],\n",
              "       [1.],\n",
              "       [0.],\n",
              "       [1.],\n",
              "       [0.],\n",
              "       [1.],\n",
              "       [0.],\n",
              "       [0.],\n",
              "       [1.],\n",
              "       [0.],\n",
              "       [0.],\n",
              "       [0.],\n",
              "       [0.],\n",
              "       [1.],\n",
              "       [0.],\n",
              "       [1.],\n",
              "       [0.],\n",
              "       [0.],\n",
              "       [1.],\n",
              "       [0.],\n",
              "       [1.],\n",
              "       [1.],\n",
              "       [0.],\n",
              "       [0.],\n",
              "       [0.],\n",
              "       [0.],\n",
              "       [0.],\n",
              "       [0.],\n",
              "       [0.],\n",
              "       [1.],\n",
              "       [0.],\n",
              "       [0.],\n",
              "       [0.],\n",
              "       [0.],\n",
              "       [1.],\n",
              "       [0.],\n",
              "       [0.],\n",
              "       [1.],\n",
              "       [0.],\n",
              "       [1.],\n",
              "       [1.],\n",
              "       [1.],\n",
              "       [0.],\n",
              "       [1.],\n",
              "       [0.],\n",
              "       [1.],\n",
              "       [0.],\n",
              "       [1.],\n",
              "       [0.],\n",
              "       [0.],\n",
              "       [1.],\n",
              "       [0.],\n",
              "       [1.],\n",
              "       [1.],\n",
              "       [0.],\n",
              "       [0.],\n",
              "       [0.],\n",
              "       [0.],\n",
              "       [0.],\n",
              "       [1.],\n",
              "       [1.],\n",
              "       [0.]], dtype=float32)"
            ]
          },
          "metadata": {},
          "execution_count": 66
        }
      ],
      "source": [
        "predictions"
      ]
    },
    {
      "cell_type": "code",
      "execution_count": 67,
      "metadata": {
        "colab": {
          "base_uri": "https://localhost:8080/"
        },
        "id": "l2Er0_fL5d4U",
        "outputId": "6a00ce51-8bc7-48aa-fbd6-038aea52608b"
      },
      "outputs": [
        {
          "output_type": "stream",
          "name": "stdout",
          "text": [
            "121\n"
          ]
        }
      ],
      "source": [
        "print(len(predictions))"
      ]
    },
    {
      "cell_type": "code",
      "execution_count": 68,
      "metadata": {
        "id": "-vPGVjm-5iMy"
      },
      "outputs": [],
      "source": [
        "#import load_model from keras.model\n",
        "from keras.models import load_model\n",
        "#import image class from keras\n",
        "import tensorflow as tf\n",
        "from tensorflow.keras.preprocessing import image\n",
        "#import numpy\n",
        "import numpy as np\n",
        "#import cv2"
      ]
    },
    {
      "cell_type": "code",
      "execution_count": 69,
      "metadata": {
        "id": "g_7EUgeJ5ok7"
      },
      "outputs": [],
      "source": [
        "#load the saved model\n",
        "model = load_model(\"forest1.h5\")"
      ]
    },
    {
      "cell_type": "code",
      "execution_count": 70,
      "metadata": {
        "id": "dYOZSpOd52Lj"
      },
      "outputs": [],
      "source": [
        "def predictImage(filename):\n",
        "  img1 = image.load_img(filename,target_size=(64,64))\n",
        "  Y = image.img_to_array(img1)\n",
        "  X = np.expand_dims(Y,axis=0)\n",
        "  val = model.predict(X)\n",
        "  print(val)\n",
        "  if val == 1:\n",
        "    print(\" fire\")\n",
        "  elif val == 0:\n",
        "      print(\"no fire\")"
      ]
    },
    {
      "cell_type": "code",
      "execution_count": 71,
      "metadata": {
        "colab": {
          "base_uri": "https://localhost:8080/"
        },
        "id": "exXlehDu5--F",
        "outputId": "2ffcfd57-a0b7-4303-912e-edd50acc2e89"
      },
      "outputs": [
        {
          "output_type": "stream",
          "name": "stdout",
          "text": [
            "1/1 [==============================] - 0s 59ms/step\n",
            "[[1.]]\n",
            " fire\n"
          ]
        }
      ],
      "source": [
        "predictImage(\"/content/drive/MyDrive/forest fire/Dataset/Dataset/test_set/with fire/FORESTFIRE (1).jpg\")"
      ]
    },
    {
      "cell_type": "markdown",
      "metadata": {
        "id": "ck3bFRsvG5EE"
      },
      "source": [
        "Open cv2 for video processing"
      ]
    },
    {
      "cell_type": "code",
      "execution_count": 72,
      "metadata": {
        "colab": {
          "base_uri": "https://localhost:8080/"
        },
        "id": "cmDnjg_NG7fO",
        "outputId": "152d62be-ff23-4de1-fb2e-2d3561c3b6dc"
      },
      "outputs": [
        {
          "output_type": "stream",
          "name": "stdout",
          "text": [
            "Looking in indexes: https://pypi.org/simple, https://us-python.pkg.dev/colab-wheels/public/simple/\n",
            "Requirement already satisfied: twilio in /usr/local/lib/python3.7/dist-packages (7.15.3)\n",
            "Requirement already satisfied: requests>=2.0.0 in /usr/local/lib/python3.7/dist-packages (from twilio) (2.23.0)\n",
            "Requirement already satisfied: PyJWT<3.0.0,>=2.0.0 in /usr/local/lib/python3.7/dist-packages (from twilio) (2.6.0)\n",
            "Requirement already satisfied: pytz in /usr/local/lib/python3.7/dist-packages (from twilio) (2022.6)\n",
            "Requirement already satisfied: certifi>=2017.4.17 in /usr/local/lib/python3.7/dist-packages (from requests>=2.0.0->twilio) (2022.9.24)\n",
            "Requirement already satisfied: urllib3!=1.25.0,!=1.25.1,<1.26,>=1.21.1 in /usr/local/lib/python3.7/dist-packages (from requests>=2.0.0->twilio) (1.24.3)\n",
            "Requirement already satisfied: idna<3,>=2.5 in /usr/local/lib/python3.7/dist-packages (from requests>=2.0.0->twilio) (2.10)\n",
            "Requirement already satisfied: chardet<4,>=3.0.2 in /usr/local/lib/python3.7/dist-packages (from requests>=2.0.0->twilio) (3.0.4)\n"
          ]
        }
      ],
      "source": [
        "pip install twilio"
      ]
    },
    {
      "cell_type": "code",
      "execution_count": 73,
      "metadata": {
        "colab": {
          "base_uri": "https://localhost:8080/"
        },
        "id": "ca16PVc9HPHp",
        "outputId": "9138f654-ab4f-4586-e8ef-d76f3331b1bf"
      },
      "outputs": [
        {
          "output_type": "stream",
          "name": "stdout",
          "text": [
            "Looking in indexes: https://pypi.org/simple, https://us-python.pkg.dev/colab-wheels/public/simple/\n",
            "Requirement already satisfied: playsound in /usr/local/lib/python3.7/dist-packages (1.3.0)\n"
          ]
        }
      ],
      "source": [
        "pip install playsound"
      ]
    },
    {
      "cell_type": "code",
      "execution_count": 74,
      "metadata": {
        "id": "TG7zfd_tHUZx"
      },
      "outputs": [],
      "source": [
        "#import opencv librariy\n",
        "#import cv2\n",
        "#import numpy\n",
        "import numpy as np\n",
        "#import image function from keras\n",
        "from keras.preprocessing import image\n",
        "#import load_model from keras\n",
        "from keras.models import load_model\n",
        "#import client from twilio API\n",
        "from twilio.rest import Client\n",
        "#imort playsound package\n",
        "from playsound import playsound"
      ]
    },
    {
      "cell_type": "code",
      "execution_count": 75,
      "metadata": {
        "id": "rlTGO9OTHaIs"
      },
      "outputs": [],
      "source": [
        "#load the saved model\n",
        "model = load_model(r'forest1.h5')\n",
        "#define the features\n",
        "name = ['forest','with forest']"
      ]
    },
    {
      "cell_type": "markdown",
      "metadata": {
        "id": "k1ztIQdzHyNT"
      },
      "source": [
        "Creating An Account in Twilio Service"
      ]
    },
    {
      "cell_type": "code",
      "execution_count": 76,
      "metadata": {
        "colab": {
          "base_uri": "https://localhost:8080/"
        },
        "id": "yn5owrg6H190",
        "outputId": "7cff5650-7eb5-48f7-97b0-d173b7a7e2e8"
      },
      "outputs": [
        {
          "output_type": "stream",
          "name": "stdout",
          "text": [
            "SM443c6d704ac63738a981743988aec407\n"
          ]
        }
      ],
      "source": [
        "account_sid='ACcd50918435afdf4a48f0b5b00c086b25'\n",
        "auth_token='5ca3f7bf591627441cefd46af0a4e746'\n",
        "client=Client(account_sid,auth_token)\n",
        "message=client.messages \\\n",
        ".create(\n",
        "    body='forest fire is detected,stay alert',\n",
        "#use twilio free number\n",
        "    from_='+14635832381',\n",
        "#to number\n",
        "    to='+919025868474')\n",
        "print(message.sid)"
      ]
    },
    {
      "cell_type": "markdown",
      "metadata": {
        "id": "cbSS867rMO9h"
      },
      "source": [
        "Sending Alert Message"
      ]
    },
    {
      "cell_type": "code",
      "execution_count": 77,
      "metadata": {
        "colab": {
          "base_uri": "https://localhost:8080/"
        },
        "id": "ktBNiDFlMWDu",
        "outputId": "fc2296af-4fd5-4d7e-b82f-a010e9001ee2"
      },
      "outputs": [
        {
          "output_type": "stream",
          "name": "stdout",
          "text": [
            "Looking in indexes: https://pypi.org/simple, https://us-python.pkg.dev/colab-wheels/public/simple/\n",
            "Requirement already satisfied: pygobject in /usr/lib/python3/dist-packages (3.26.1)\n"
          ]
        }
      ],
      "source": [
        "pip install pygobject"
      ]
    },
    {
      "cell_type": "code",
      "execution_count": 78,
      "metadata": {
        "id": "99kwCrHsMdLU"
      },
      "outputs": [],
      "source": [
        "def message(val):\n",
        "  if val==1:\n",
        "    from twilio.rest import Client\n",
        "    print('Forest fire')\n",
        "    account_sid='ACcd50918435afdf4a48f0b5b00c086b25'\n",
        "    auth_token='5ca3f7bf591627441cefd46af0a4e746'\n",
        "    client=Client(account_sid,auth_token)\n",
        "    message=client.messages \\\n",
        "     .create(\n",
        "        body='forest fire is detected, stay alert',\n",
        "        #use twilio free number\n",
        "        from_='+14635832381',\n",
        "        #to number\n",
        "        to='+919025868474')\n",
        "    print(message.sid)\n",
        "    print(\"Fire detected\")\n",
        "    print(\"SMS Sent!\")\n",
        "  elif val==0:\n",
        "    print('No Fire')"
      ]
    },
    {
      "cell_type": "code",
      "execution_count": 79,
      "metadata": {
        "colab": {
          "base_uri": "https://localhost:8080/",
          "height": 359
        },
        "id": "y_tA-DZCM7yi",
        "outputId": "77fbddd2-6dad-4c04-9190-c67eebef4dd1"
      },
      "outputs": [
        {
          "output_type": "stream",
          "name": "stdout",
          "text": [
            "1/1 [==============================] - 0s 62ms/step\n"
          ]
        },
        {
          "output_type": "display_data",
          "data": {
            "text/plain": [
              "<Figure size 432x288 with 1 Axes>"
            ],
            "image/png": "[encoded data removed]"
          },
          "metadata": {
            "needs_background": "light"
          }
        },
        {
          "output_type": "stream",
          "name": "stdout",
          "text": [
            "Forest fire\n",
            "SMa6813c562eb706375acd45adfa28b735\n",
            "Fire detected\n",
            "SMS Sent!\n"
          ]
        }
      ],
      "source": [
        "from matplotlib import pyplot as plt\n",
        "#import load model from keras.model\n",
        "from keras.models import load_model\n",
        "#import image from keras\n",
        "from tensorflow.keras.preprocessing import image\n",
        "img1 = image.load_img('/content/drive/MyDrive/forest fire/Dataset/Dataset/test_set/with fire/19464620_401.jpg',target_size=(64,64))\n",
        "Y = image.img_to_array(img1)\n",
        "x = np.expand_dims(Y,axis=0)\n",
        "val = model.predict(x)\n",
        "plt.imshow(img1)\n",
        "plt.show()\n",
        "message(val)"
      ]
    },
    {
      "cell_type": "code",
      "execution_count": 80,
      "metadata": {
        "colab": {
          "base_uri": "https://localhost:8080/",
          "height": 305
        },
        "id": "IYL2157KNQ4w",
        "outputId": "95301024-9fe3-477d-dab1-706a5cba6e70"
      },
      "outputs": [
        {
          "output_type": "stream",
          "name": "stdout",
          "text": [
            "1/1 [==============================] - 0s 22ms/step\n"
          ]
        },
        {
          "output_type": "display_data",
          "data": {
            "text/plain": [
              "<Figure size 432x288 with 1 Axes>"
            ],
            "image/png": "[encoded data removed]"
          },
          "metadata": {
            "needs_background": "light"
          }
        },
        {
          "output_type": "stream",
          "name": "stdout",
          "text": [
            "No Fire\n"
          ]
        }
      ],
      "source": [
        "img2 = image.load_img('/content/drive/MyDrive/forest fire/Dataset/Dataset/test_set/forest/5472.jpg',target_size=(64,64))\n",
        "Y = image.img_to_array(img2)\n",
        "x = np.expand_dims(Y,axis=0)\n",
        "val = model.predict(x)\n",
        "plt.imshow(img2)\n",
        "plt.show()\n",
        "message(val)"
      ]
    },
    {
      "cell_type": "code",
      "execution_count": 81,
      "metadata": {
        "id": "6vj6bm0IB8_W"
      },
      "outputs": [],
      "source": [
        "import cv2\n",
        "from google.colab.patches import cv2_imshow\n",
        "from matplotlib import pyplot as plt\n",
        "import librosa\n",
        "from tensorflow.keras.preprocessing import image\n",
        "from keras.models import load_model\n",
        "%matplotlib inline"
      ]
    },
    {
      "cell_type": "code",
      "execution_count": 82,
      "metadata": {
        "colab": {
          "base_uri": "https://localhost:8080/",
          "height": 348
        },
        "id": "wvmCgn8xCG5u",
        "outputId": "d9a94409-49d6-49ed-845d-a98c886390f1"
      },
      "outputs": [
        {
          "output_type": "display_data",
          "data": {
            "text/plain": [
              "<PIL.Image.Image image mode=RGB size=426x240 at 0x7FEF74817210>"
            ],
            "image/png": "[encoded data removed]"
          },
          "metadata": {}
        },
        {
          "output_type": "stream",
          "name": "stdout",
          "text": [
            "1/1 [==============================] - 0s 58ms/step\n",
            "Forest fire\n",
            "SM66ebaf9cb4c4f4cf0ca9a8ae3cab1dce\n",
            "Fire detected\n",
            "SMS Sent!\n"
          ]
        }
      ],
      "source": [
        "cap = cv2.VideoCapture(r'/content/forest fire video.webm')\n",
        "# Check if camera opened successfully\n",
        "if (cap.isOpened()== False): \n",
        "  print(\"Error opening video stream or file\")\n",
        " \n",
        "# Read until video is completed\n",
        "while(cap.isOpened()):\n",
        "  # Capture frame-by-frame\n",
        "  ret, frame = cap.read()\n",
        "  if ret == True:\n",
        "    x=image.img_to_array(frame)\n",
        "    res=cv2.resize(x,dsize=(64,64),interpolation=cv2.INTER_CUBIC)\n",
        "    #expand the image shape\n",
        "    x=np.expand_dims(res,axis=0)\n",
        "    model=load_model(\"forest1.h5\")\n",
        "    cv2_imshow(frame)\n",
        "    pred=model.predict(x)\n",
        "    pred = int(pred[0][0])\n",
        "    pred\n",
        "    int(pred)\n",
        "    if pred==1:\n",
        "      print('Forest fire')\n",
        "      break\n",
        "    else:\n",
        "      print(\"No fire\")\n",
        "      break\n",
        " \n",
        "# When everything done, release the video capture object\n",
        "cap.release()\n",
        "\n",
        "# Closes all the frames\n",
        "cv2.destroyAllWindows()\n",
        "from twilio.rest import Client\n",
        "from playsound import playsound\n",
        "if pred==1:\n",
        "  account_sid='ACcd50918435afdf4a48f0b5b00c086b25'\n",
        "  auth_token='5ca3f7bf591627441cefd46af0a4e746'\n",
        "  client=Client(account_sid,auth_token)\n",
        "  message=client.messages \\\n",
        "  .create(\n",
        "      body='forest fire is detected,stay alert',\n",
        "      #use twilio free number\n",
        "      from_='+14635832381',\n",
        "      #to number\n",
        "      to='+91 9025868474')\n",
        "  print(message.sid)\n",
        "  print(\"Fire detected\")\n",
        "  print(\"SMS Sent!\")\n"
      ]
    }
  ],
  "metadata": {
    "colab": {
      "provenance": []
    },
    "kernelspec": {
      "display_name": "Python 3",
      "name": "python3"
    },
    "language_info": {
      "name": "python"
    }
  },
  "nbformat": 4,
  "nbformat_minor": 0
}